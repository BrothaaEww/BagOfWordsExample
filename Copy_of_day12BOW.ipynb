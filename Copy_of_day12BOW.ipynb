{
  "nbformat": 4,
  "nbformat_minor": 0,
  "metadata": {
    "colab": {
      "provenance": [],
      "gpuType": "T4",
      "authorship_tag": "ABX9TyMsKcAiZObxTMWjBf0U20qj",
      "include_colab_link": true
    },
    "kernelspec": {
      "name": "python3",
      "display_name": "Python 3"
    },
    "language_info": {
      "name": "python"
    },
    "accelerator": "GPU"
  },
  "cells": [
    {
      "cell_type": "markdown",
      "metadata": {
        "id": "view-in-github",
        "colab_type": "text"
      },
      "source": [
        "<a href=\"https://colab.research.google.com/github/BrothaaEww/BagOfWordsExample/blob/main/Copy_of_day12BOW.ipynb\" target=\"_parent\"><img src=\"https://colab.research.google.com/assets/colab-badge.svg\" alt=\"Open In Colab\"/></a>"
      ]
    },
    {
      "cell_type": "code",
      "execution_count": null,
      "metadata": {
        "id": "ZiyYdZrIwvHZ"
      },
      "outputs": [],
      "source": [
        "import nltk"
      ]
    },
    {
      "cell_type": "code",
      "source": [
        "import re"
      ],
      "metadata": {
        "id": "CDE5H-2jw0T8"
      },
      "execution_count": null,
      "outputs": []
    },
    {
      "cell_type": "code",
      "source": [
        "nltk.download('punkt')\n"
      ],
      "metadata": {
        "id": "YkQscPaxxGjs",
        "colab": {
          "base_uri": "https://localhost:8080/"
        },
        "outputId": "538c9819-2b55-4d02-9dd5-a489b9c795d3"
      },
      "execution_count": null,
      "outputs": [
        {
          "output_type": "stream",
          "name": "stderr",
          "text": [
            "[nltk_data] Downloading package punkt to /root/nltk_data...\n",
            "[nltk_data]   Unzipping tokenizers/punkt.zip.\n"
          ]
        },
        {
          "output_type": "execute_result",
          "data": {
            "text/plain": [
              "True"
            ]
          },
          "metadata": {},
          "execution_count": 3
        }
      ]
    },
    {
      "cell_type": "code",
      "source": [
        "paragraph=\"\"\"I have three visions for India.In 3000 years of our history, people from allover the world have come and invaded us, captured our lands, conquered our minds. From Alexander onwards. The Greeks, the Portuguese, the British, the French, the Dutch, all of them came and looted us, took over what was ours. Yet we have not done this to any other nation. We have not conquered anyone. We have not grabbed their land, their culture, their history tried to enforce our way of life on them. Why? Because we respect the freedom of others.That is why my first vision is that of FREEDOM.I believe that India got its first vision of this in 1857, when we started the war of independence. It is this freedom that we must protect and nurture and built on. If we are not free, no one will respect us.My second vision for India is DEVELOPMENT.For fifty years we have been a developing nation. It is time we see ourselves as a developed nation. We are among top 5 nations of the world in terms of GDP. We have 10 percent growth rate in most areas. Our poverty levels are falling, our achievements are being globally recognized today. Yet we lack the self-confidence to see ourselves as a developed nation, self reliant and self assured. Isn't this right?I have a third vision. The India must stand up to the world. Because I believe that unless India stands up to the world, no one will respect us. Only strength respects strength. We must be strong not only as a military power but also as an economic power. Both must go hand-in-hand.My good fortune was to have work with three great minds. Dr Vikram Sarabhai of the Dept. of space, Professor Satish Dhawan, who succeeded him, and Dr.Brahm Prakash, father of nuclear material. I was lucky to have worked with all three of them closely and consider this the great opportunity of my life.I see four milestones in my career:ONE: Twenty years I spent in ISRO. I was given the opportunity to be the project director for India's first satellite launch vehicle, SLV3. The one that launched Rohini. These years played a very important role in my life of Scientist.TWO: After my ISRO years, I joined DRDO and got a chance to be the part of India's guided missile program. It was my second bliss when Agni met its mission requirements in 1994.THREE: The Dept. of Atomic Energy and DRDO had this tremendous partnership in the recent nuclear tests, on May 11 and 13. This was the third bliss. The joy of participating with my team in these nuclear tests and proving to the world that India can make it.That we are no longer a developing nation but one of them. It made me feel very proud as an Indian. The fact that we have now developed for Agni a re-entry structure, for which we have developed this new material. A Very light material called carbon-carbon.FOUR: One day an orthopaedic surgeon from Nizam institute of Medical Sciences visited my laboratory. He lifted the material and found it so light that he took me to his hospital and showed me his patients. There were these little girls and boys with heavy metallic calipers weighing over three Kgs. each, dragging their feet around. He said to me: Please remove the pain of my patients. In three weeks, we made these Floor reaction Orthosis 300 gram calipers and took them to the orthopaedic center. The children didn't believe their eyes. From dragging around a three kg. load on their legs, they could now move around! Their parents had tears in their eyes. That was my forth bliss! Why is the media here so negative? Why are we in India so embarrassed to recognize our own strengths, our achievements? We are such a great nation. We have so many amazing success stories but we refuse to acknowledge them. Why? We are the second largest producer of wheat in the world. We are the second largest producers in rice. We are the first in milk production. We are number one in Remote sensing satellites. Look at Dr. Sudarshan, he has transferred the tribal village into a self-sustaining, self-driving unit. There are millions of such achievements but our media is only obsessed with the bad news and failures and disasters. I was in Tel Aviv once and I was reading the Israeli newspaper. It was the day after a lot of attacks and bombardments and deaths had taken place. The Hamas had struck. But the front page of the newspaper had the picture of a Jewish gentleman who in five years had transformed his desert land into an orchid and a granary. It was this inspiring picture that everyone woke up to. The gory details of killings, bombardments, deaths, were inside in the newspaper, buried among other news. In India we only read about death, sickness, terrorism, crime. Why are we so negative? Another question: Why are we, as a nation so obsessed with foreign things? we want foreign TVs, we want foreign shirts. We want foreign technology. Why this obsession with everything imported? Do we not realize that self-respect comes with self-reliance?I was in Hyderabad giving this lecture, when a 14 year oldgirl asked me for my autograph. I asked her what her goal in life is: She replied: \"I want to live in a developed India.\" For her, you, and I will have to build this developed India.\n",
        "\n",
        "\"\"\""
      ],
      "metadata": {
        "id": "6sQFMV3dxK1n"
      },
      "execution_count": null,
      "outputs": []
    },
    {
      "cell_type": "code",
      "source": [
        "from nltk.stem import PorterStemmer\n",
        "from nltk.corpus import stopwords\n",
        "nltk.download('stopwords')"
      ],
      "metadata": {
        "id": "4HwSeAMfxMoH",
        "colab": {
          "base_uri": "https://localhost:8080/"
        },
        "outputId": "95405a1a-7340-46f0-95e0-99e4b01f35ba"
      },
      "execution_count": null,
      "outputs": [
        {
          "output_type": "stream",
          "name": "stderr",
          "text": [
            "[nltk_data] Downloading package stopwords to /root/nltk_data...\n",
            "[nltk_data]   Unzipping corpora/stopwords.zip.\n"
          ]
        },
        {
          "output_type": "execute_result",
          "data": {
            "text/plain": [
              "True"
            ]
          },
          "metadata": {},
          "execution_count": 5
        }
      ]
    },
    {
      "cell_type": "code",
      "source": [
        "from nltk.stem import WordNetLemmatizer\n",
        "nltk.download('wordnet')\n"
      ],
      "metadata": {
        "id": "g1TBalKQxObK",
        "colab": {
          "base_uri": "https://localhost:8080/"
        },
        "outputId": "385b07ae-d1b8-40a3-fc67-cd6c38e53f82"
      },
      "execution_count": null,
      "outputs": [
        {
          "output_type": "stream",
          "name": "stderr",
          "text": [
            "[nltk_data] Downloading package wordnet to /root/nltk_data...\n"
          ]
        },
        {
          "output_type": "execute_result",
          "data": {
            "text/plain": [
              "True"
            ]
          },
          "metadata": {},
          "execution_count": 6
        }
      ]
    },
    {
      "cell_type": "code",
      "source": [
        "ps=PorterStemmer()"
      ],
      "metadata": {
        "id": "tuOXfc0RxSTf"
      },
      "execution_count": null,
      "outputs": []
    },
    {
      "cell_type": "code",
      "source": [
        "wordnet=WordNetLemmatizer()"
      ],
      "metadata": {
        "id": "A5lifnG0xUG8"
      },
      "execution_count": null,
      "outputs": []
    },
    {
      "cell_type": "code",
      "source": [
        "sentences=nltk.sent_tokenize(paragraph)\n"
      ],
      "metadata": {
        "id": "IujV6Np0xWTm"
      },
      "execution_count": null,
      "outputs": []
    },
    {
      "cell_type": "code",
      "source": [
        "corpus=[]\n"
      ],
      "metadata": {
        "id": "_7RRkpfjxYFj"
      },
      "execution_count": null,
      "outputs": []
    },
    {
      "cell_type": "code",
      "source": [
        "for i in range(len(sentences)):\n",
        "  review=re.sub('[^a-zA-Z]',' ',sentences[i])\n",
        "  review=review.lower()\n",
        "  review=review.split()\n",
        "  review= [wordnet.lemmatize(word) for word in review if not word in set(stopwords.words('english'))]\n",
        "  review=' '.join(review)\n",
        "  corpus.append(review)\n"
      ],
      "metadata": {
        "id": "NipoL2N5xZqd"
      },
      "execution_count": null,
      "outputs": []
    },
    {
      "cell_type": "code",
      "source": [
        "from sklearn.feature_extraction.text import CountVectorizer\n",
        "\n",
        "cv=CountVectorizer(max_features=1500)\n",
        "\n",
        "x=cv.fit_transform(corpus)"
      ],
      "metadata": {
        "id": "__0ytJ0lxdHv"
      },
      "execution_count": null,
      "outputs": []
    },
    {
      "cell_type": "code",
      "source": [
        "print(x.toarray())"
      ],
      "metadata": {
        "id": "uYOyg4DTxeru",
        "colab": {
          "base_uri": "https://localhost:8080/"
        },
        "outputId": "70ad7bb4-5774-4c32-9257-ea2dbdd73d61"
      },
      "execution_count": null,
      "outputs": [
        {
          "output_type": "stream",
          "name": "stdout",
          "text": [
            "[[0 0 0 ... 1 1 0]\n",
            " [0 0 0 ... 0 0 0]\n",
            " [0 0 0 ... 0 0 0]\n",
            " ...\n",
            " [0 0 0 ... 0 1 0]\n",
            " [0 0 0 ... 0 0 0]\n",
            " [0 0 0 ... 0 0 0]]\n"
          ]
        }
      ]
    },
    {
      "cell_type": "code",
      "source": [
        "from sklearn.feature_extraction.text import TfidfVectorizer\n",
        "\n",
        "cv=TfidfVectorizer()\n",
        "\n",
        "x=cv.fit_transform(corpus)"
      ],
      "metadata": {
        "id": "5skUBNo2xfNz"
      },
      "execution_count": null,
      "outputs": []
    },
    {
      "cell_type": "code",
      "source": [
        "print(x.toarray())"
      ],
      "metadata": {
        "id": "xx0av_h9xhWJ",
        "colab": {
          "base_uri": "https://localhost:8080/"
        },
        "outputId": "b05a3424-dcb8-4fe2-953f-aad3cf9b99e3"
      },
      "execution_count": null,
      "outputs": [
        {
          "output_type": "stream",
          "name": "stdout",
          "text": [
            "[[0.         0.         0.         ... 0.22327908 0.22327908 0.        ]\n",
            " [0.         0.         0.         ... 0.         0.         0.        ]\n",
            " [0.         0.         0.         ... 0.         0.         0.        ]\n",
            " ...\n",
            " [0.         0.         0.         ... 0.         0.20413421 0.        ]\n",
            " [0.         0.         0.         ... 0.         0.         0.        ]\n",
            " [0.         0.         0.         ... 0.         0.         0.        ]]\n"
          ]
        }
      ]
    },
    {
      "cell_type": "code",
      "source": [
        "print(x)"
      ],
      "metadata": {
        "id": "V4sspMfKxjBV",
        "colab": {
          "base_uri": "https://localhost:8080/"
        },
        "outputId": "d3914439-01be-4351-d3c0-cee2d260f0a4"
      },
      "execution_count": null,
      "outputs": [
        {
          "output_type": "stream",
          "name": "stdout",
          "text": [
            "  (0, 162)\t0.28031767314443873\n",
            "  (0, 40)\t0.28031767314443873\n",
            "  (0, 131)\t0.2609514242919416\n",
            "  (0, 31)\t0.30761286786305825\n",
            "  (0, 121)\t0.30761286786305825\n",
            "  (0, 38)\t0.28031767314443873\n",
            "  (0, 299)\t0.22327907815448747\n",
            "  (0, 4)\t0.30761286786305825\n",
            "  (0, 193)\t0.30761286786305825\n",
            "  (0, 110)\t0.28031767314443873\n",
            "  (0, 300)\t0.22327907815448747\n",
            "  (0, 116)\t0.1816064523378156\n",
            "  (0, 288)\t0.2459297946583979\n",
            "  (0, 270)\t0.21428998072082503\n",
            "  (1, 180)\t0.7071067811865476\n",
            "  (1, 3)\t0.7071067811865476\n",
            "  (2, 273)\t0.30532114315114034\n",
            "  (2, 146)\t0.35991645847035125\n",
            "  (2, 30)\t0.35991645847035125\n",
            "  (2, 61)\t0.35991645847035125\n",
            "  (2, 87)\t0.35991645847035125\n",
            "  (2, 24)\t0.35991645847035125\n",
            "  (2, 199)\t0.35991645847035125\n",
            "  (2, 104)\t0.35991645847035125\n",
            "  (3, 167)\t0.44423574187232023\n",
            "  :\t:\n",
            "  (66, 68)\t0.5773502691896257\n",
            "  (66, 177)\t0.5773502691896257\n",
            "  (67, 16)\t0.2812368784188397\n",
            "  (67, 12)\t0.2562820856891796\n",
            "  (67, 178)\t0.2812368784188397\n",
            "  (67, 135)\t0.2812368784188397\n",
            "  (67, 93)\t0.2812368784188397\n",
            "  (67, 112)\t0.2812368784188397\n",
            "  (67, 221)\t0.2812368784188397\n",
            "  (67, 216)\t0.2812368784188397\n",
            "  (67, 240)\t0.47715275694830106\n",
            "  (67, 227)\t0.21362158574449042\n",
            "  (67, 38)\t0.2562820856891796\n",
            "  (67, 300)\t0.2041342138663676\n",
            "  (68, 142)\t0.40440096077596643\n",
            "  (68, 225)\t0.40440096077596643\n",
            "  (68, 96)\t0.40440096077596643\n",
            "  (68, 12)\t0.36851753676494375\n",
            "  (68, 290)\t0.3430578422567713\n",
            "  (68, 50)\t0.3071744182457486\n",
            "  (68, 138)\t0.3233097689774371\n",
            "  (68, 116)\t0.23874756709209544\n",
            "  (69, 25)\t0.7206562389972188\n",
            "  (69, 50)\t0.5473952399726734\n",
            "  (69, 116)\t0.4254562685513552\n"
          ]
        }
      ]
    },
    {
      "cell_type": "code",
      "source": [
        "from gensim.models import Word2Vec"
      ],
      "metadata": {
        "id": "p6GHhKRjxmSd"
      },
      "execution_count": null,
      "outputs": []
    },
    {
      "cell_type": "code",
      "source": [
        "model=Word2Vec(corpus,min_count=1)"
      ],
      "metadata": {
        "id": "ZjjwQCX-xolo",
        "colab": {
          "base_uri": "https://localhost:8080/"
        },
        "outputId": "bf311e34-76b6-4612-8087-ad4d430043b8"
      },
      "execution_count": null,
      "outputs": [
        {
          "output_type": "stream",
          "name": "stderr",
          "text": [
            "WARNING:gensim.models.word2vec:Each 'sentences' item should be a list of words (usually unicode strings). First item here is instead plain <class 'str'>.\n"
          ]
        }
      ]
    },
    {
      "cell_type": "code",
      "source": [],
      "metadata": {
        "id": "Gjn8muWVyifb"
      },
      "execution_count": null,
      "outputs": []
    }
  ]
}